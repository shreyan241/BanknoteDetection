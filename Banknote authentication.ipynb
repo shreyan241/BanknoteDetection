{
 "cells": [
  {
   "cell_type": "code",
   "execution_count": 1,
   "metadata": {
    "scrolled": true
   },
   "outputs": [
    {
     "data": {
      "text/html": [
       "<div>\n",
       "<style scoped>\n",
       "    .dataframe tbody tr th:only-of-type {\n",
       "        vertical-align: middle;\n",
       "    }\n",
       "\n",
       "    .dataframe tbody tr th {\n",
       "        vertical-align: top;\n",
       "    }\n",
       "\n",
       "    .dataframe thead th {\n",
       "        text-align: right;\n",
       "    }\n",
       "</style>\n",
       "<table border=\"1\" class=\"dataframe\">\n",
       "  <thead>\n",
       "    <tr style=\"text-align: right;\">\n",
       "      <th></th>\n",
       "      <th>variance</th>\n",
       "      <th>skewness</th>\n",
       "      <th>curtosis</th>\n",
       "      <th>entropy</th>\n",
       "      <th>Class</th>\n",
       "    </tr>\n",
       "  </thead>\n",
       "  <tbody>\n",
       "    <tr>\n",
       "      <th>0</th>\n",
       "      <td>3.62160</td>\n",
       "      <td>8.6661</td>\n",
       "      <td>-2.8073</td>\n",
       "      <td>-0.44699</td>\n",
       "      <td>0</td>\n",
       "    </tr>\n",
       "    <tr>\n",
       "      <th>1</th>\n",
       "      <td>4.54590</td>\n",
       "      <td>8.1674</td>\n",
       "      <td>-2.4586</td>\n",
       "      <td>-1.46210</td>\n",
       "      <td>0</td>\n",
       "    </tr>\n",
       "    <tr>\n",
       "      <th>2</th>\n",
       "      <td>3.86600</td>\n",
       "      <td>-2.6383</td>\n",
       "      <td>1.9242</td>\n",
       "      <td>0.10645</td>\n",
       "      <td>0</td>\n",
       "    </tr>\n",
       "    <tr>\n",
       "      <th>3</th>\n",
       "      <td>3.45660</td>\n",
       "      <td>9.5228</td>\n",
       "      <td>-4.0112</td>\n",
       "      <td>-3.59440</td>\n",
       "      <td>0</td>\n",
       "    </tr>\n",
       "    <tr>\n",
       "      <th>4</th>\n",
       "      <td>0.32924</td>\n",
       "      <td>-4.4552</td>\n",
       "      <td>4.5718</td>\n",
       "      <td>-0.98880</td>\n",
       "      <td>0</td>\n",
       "    </tr>\n",
       "  </tbody>\n",
       "</table>\n",
       "</div>"
      ],
      "text/plain": [
       "   variance  skewness  curtosis  entropy  Class\n",
       "0   3.62160    8.6661   -2.8073 -0.44699      0\n",
       "1   4.54590    8.1674   -2.4586 -1.46210      0\n",
       "2   3.86600   -2.6383    1.9242  0.10645      0\n",
       "3   3.45660    9.5228   -4.0112 -3.59440      0\n",
       "4   0.32924   -4.4552    4.5718 -0.98880      0"
      ]
     },
     "execution_count": 1,
     "metadata": {},
     "output_type": "execute_result"
    }
   ],
   "source": [
    "import pandas as pd\n",
    "import numpy as np\n",
    "import matplotlib.pyplot as plt\n",
    "import seaborn as sns\n",
    "\n",
    "df=pd.read_csv(\"Banknotes1.csv\")\n",
    "df.head()"
   ]
  },
  {
   "cell_type": "code",
   "execution_count": 2,
   "metadata": {},
   "outputs": [
    {
     "data": {
      "text/html": [
       "<div>\n",
       "<style scoped>\n",
       "    .dataframe tbody tr th:only-of-type {\n",
       "        vertical-align: middle;\n",
       "    }\n",
       "\n",
       "    .dataframe tbody tr th {\n",
       "        vertical-align: top;\n",
       "    }\n",
       "\n",
       "    .dataframe thead tr th {\n",
       "        text-align: left;\n",
       "    }\n",
       "\n",
       "    .dataframe thead tr:last-of-type th {\n",
       "        text-align: right;\n",
       "    }\n",
       "</style>\n",
       "<table border=\"1\" class=\"dataframe\">\n",
       "  <thead>\n",
       "    <tr>\n",
       "      <th></th>\n",
       "      <th colspan=\"8\" halign=\"left\">variance</th>\n",
       "      <th colspan=\"2\" halign=\"left\">skewness</th>\n",
       "      <th>...</th>\n",
       "      <th colspan=\"2\" halign=\"left\">curtosis</th>\n",
       "      <th colspan=\"8\" halign=\"left\">entropy</th>\n",
       "    </tr>\n",
       "    <tr>\n",
       "      <th></th>\n",
       "      <th>count</th>\n",
       "      <th>mean</th>\n",
       "      <th>std</th>\n",
       "      <th>min</th>\n",
       "      <th>25%</th>\n",
       "      <th>50%</th>\n",
       "      <th>75%</th>\n",
       "      <th>max</th>\n",
       "      <th>count</th>\n",
       "      <th>mean</th>\n",
       "      <th>...</th>\n",
       "      <th>75%</th>\n",
       "      <th>max</th>\n",
       "      <th>count</th>\n",
       "      <th>mean</th>\n",
       "      <th>std</th>\n",
       "      <th>min</th>\n",
       "      <th>25%</th>\n",
       "      <th>50%</th>\n",
       "      <th>75%</th>\n",
       "      <th>max</th>\n",
       "    </tr>\n",
       "    <tr>\n",
       "      <th>Class</th>\n",
       "      <th></th>\n",
       "      <th></th>\n",
       "      <th></th>\n",
       "      <th></th>\n",
       "      <th></th>\n",
       "      <th></th>\n",
       "      <th></th>\n",
       "      <th></th>\n",
       "      <th></th>\n",
       "      <th></th>\n",
       "      <th></th>\n",
       "      <th></th>\n",
       "      <th></th>\n",
       "      <th></th>\n",
       "      <th></th>\n",
       "      <th></th>\n",
       "      <th></th>\n",
       "      <th></th>\n",
       "      <th></th>\n",
       "      <th></th>\n",
       "      <th></th>\n",
       "    </tr>\n",
       "  </thead>\n",
       "  <tbody>\n",
       "    <tr>\n",
       "      <th>0</th>\n",
       "      <td>762.0</td>\n",
       "      <td>2.276686</td>\n",
       "      <td>2.019348</td>\n",
       "      <td>-4.2859</td>\n",
       "      <td>0.883345</td>\n",
       "      <td>2.5531</td>\n",
       "      <td>3.88445</td>\n",
       "      <td>6.8248</td>\n",
       "      <td>762.0</td>\n",
       "      <td>4.256627</td>\n",
       "      <td>...</td>\n",
       "      <td>2.652925</td>\n",
       "      <td>8.8294</td>\n",
       "      <td>762.0</td>\n",
       "      <td>-1.147640</td>\n",
       "      <td>2.125077</td>\n",
       "      <td>-8.5482</td>\n",
       "      <td>-2.228250</td>\n",
       "      <td>-0.55238</td>\n",
       "      <td>0.423258</td>\n",
       "      <td>2.4495</td>\n",
       "    </tr>\n",
       "    <tr>\n",
       "      <th>1</th>\n",
       "      <td>610.0</td>\n",
       "      <td>-1.868443</td>\n",
       "      <td>1.881183</td>\n",
       "      <td>-7.0421</td>\n",
       "      <td>-3.061450</td>\n",
       "      <td>-1.8061</td>\n",
       "      <td>-0.54177</td>\n",
       "      <td>2.3917</td>\n",
       "      <td>610.0</td>\n",
       "      <td>-0.993576</td>\n",
       "      <td>...</td>\n",
       "      <td>5.626350</td>\n",
       "      <td>17.9274</td>\n",
       "      <td>610.0</td>\n",
       "      <td>-1.246641</td>\n",
       "      <td>2.070984</td>\n",
       "      <td>-7.5887</td>\n",
       "      <td>-2.458375</td>\n",
       "      <td>-0.66165</td>\n",
       "      <td>0.341790</td>\n",
       "      <td>2.1353</td>\n",
       "    </tr>\n",
       "  </tbody>\n",
       "</table>\n",
       "<p>2 rows × 32 columns</p>\n",
       "</div>"
      ],
      "text/plain": [
       "      variance                                                                 \\\n",
       "         count      mean       std     min       25%     50%      75%     max   \n",
       "Class                                                                           \n",
       "0        762.0  2.276686  2.019348 -4.2859  0.883345  2.5531  3.88445  6.8248   \n",
       "1        610.0 -1.868443  1.881183 -7.0421 -3.061450 -1.8061 -0.54177  2.3917   \n",
       "\n",
       "      skewness            ...  curtosis          entropy                      \\\n",
       "         count      mean  ...       75%      max   count      mean       std   \n",
       "Class                     ...                                                  \n",
       "0        762.0  4.256627  ...  2.652925   8.8294   762.0 -1.147640  2.125077   \n",
       "1        610.0 -0.993576  ...  5.626350  17.9274   610.0 -1.246641  2.070984   \n",
       "\n",
       "                                                    \n",
       "          min       25%      50%       75%     max  \n",
       "Class                                               \n",
       "0     -8.5482 -2.228250 -0.55238  0.423258  2.4495  \n",
       "1     -7.5887 -2.458375 -0.66165  0.341790  2.1353  \n",
       "\n",
       "[2 rows x 32 columns]"
      ]
     },
     "execution_count": 2,
     "metadata": {},
     "output_type": "execute_result"
    }
   ],
   "source": [
    "df.groupby('Class').describe()"
   ]
  },
  {
   "cell_type": "code",
   "execution_count": 3,
   "metadata": {},
   "outputs": [
    {
     "data": {
      "text/plain": [
       "(1372, 5)"
      ]
     },
     "execution_count": 3,
     "metadata": {},
     "output_type": "execute_result"
    }
   ],
   "source": [
    "df.shape"
   ]
  },
  {
   "cell_type": "code",
   "execution_count": 4,
   "metadata": {},
   "outputs": [
    {
     "data": {
      "text/plain": [
       "variance    0\n",
       "skewness    0\n",
       "curtosis    0\n",
       "entropy     0\n",
       "Class       0\n",
       "dtype: int64"
      ]
     },
     "execution_count": 4,
     "metadata": {},
     "output_type": "execute_result"
    }
   ],
   "source": [
    "df.isna().sum()"
   ]
  },
  {
   "cell_type": "code",
   "execution_count": 5,
   "metadata": {},
   "outputs": [
    {
     "name": "stdout",
     "output_type": "stream",
     "text": [
      "Number of duplicate entries = 120\n"
     ]
    }
   ],
   "source": [
    "print(f'Number of duplicate entries = {df[df.duplicated()].size}')\n"
   ]
  },
  {
   "cell_type": "code",
   "execution_count": 6,
   "metadata": {},
   "outputs": [
    {
     "data": {
      "text/plain": [
       "(1348, 5)"
      ]
     },
     "execution_count": 6,
     "metadata": {},
     "output_type": "execute_result"
    }
   ],
   "source": [
    "df = df.drop_duplicates(keep='first')\n",
    "df.shape"
   ]
  },
  {
   "cell_type": "code",
   "execution_count": 35,
   "metadata": {},
   "outputs": [
    {
     "data": {
      "image/png": "[encoded data removed]",
      "text/plain": [
       "<Figure size 720x720 with 6 Axes>"
      ]
     },
     "metadata": {
      "needs_background": "light"
     },
     "output_type": "display_data"
    }
   ],
   "source": [
    "df.hist(figsize = (10,10))\n",
    "plt.show()"
   ]
  },
  {
   "cell_type": "code",
   "execution_count": 8,
   "metadata": {},
   "outputs": [
    {
     "data": {
      "image/png": "[encoded data removed]",
      "text/plain": [
       "<Figure size 720x216 with 4 Axes>"
      ]
     },
     "metadata": {
      "needs_background": "light"
     },
     "output_type": "display_data"
    }
   ],
   "source": [
    "col_names = df.drop('Class', axis = 1).columns.tolist()\n",
    "\n",
    "plt.figure(figsize = (10,3))\n",
    "i = 0\n",
    "for col in col_names:\n",
    "    plt.subplot(1,4,i+1)\n",
    "    plt.grid(True, alpha =0.5)\n",
    "    sns.kdeplot(df[col][df['Class'] ==0], label = 'Forged note')\n",
    "    sns.kdeplot(df[col][df['Class'] ==1], label = 'Genuine note')\n",
    "    plt.title('Class vs ' + col)\n",
    "    plt.tight_layout()\n",
    "    i+=1\n",
    "plt.show()\n"
   ]
  },
  {
   "cell_type": "code",
   "execution_count": 9,
   "metadata": {
    "scrolled": true
   },
   "outputs": [
    {
     "data": {
      "text/html": [
       "<div>\n",
       "<style scoped>\n",
       "    .dataframe tbody tr th:only-of-type {\n",
       "        vertical-align: middle;\n",
       "    }\n",
       "\n",
       "    .dataframe tbody tr th {\n",
       "        vertical-align: top;\n",
       "    }\n",
       "\n",
       "    .dataframe thead tr th {\n",
       "        text-align: left;\n",
       "    }\n",
       "\n",
       "    .dataframe thead tr:last-of-type th {\n",
       "        text-align: right;\n",
       "    }\n",
       "</style>\n",
       "<table border=\"1\" class=\"dataframe\">\n",
       "  <thead>\n",
       "    <tr>\n",
       "      <th></th>\n",
       "      <th colspan=\"8\" halign=\"left\">variance</th>\n",
       "      <th colspan=\"2\" halign=\"left\">skewness</th>\n",
       "      <th>...</th>\n",
       "      <th colspan=\"2\" halign=\"left\">curtosis</th>\n",
       "      <th colspan=\"8\" halign=\"left\">entropy</th>\n",
       "    </tr>\n",
       "    <tr>\n",
       "      <th></th>\n",
       "      <th>count</th>\n",
       "      <th>mean</th>\n",
       "      <th>std</th>\n",
       "      <th>min</th>\n",
       "      <th>25%</th>\n",
       "      <th>50%</th>\n",
       "      <th>75%</th>\n",
       "      <th>max</th>\n",
       "      <th>count</th>\n",
       "      <th>mean</th>\n",
       "      <th>...</th>\n",
       "      <th>75%</th>\n",
       "      <th>max</th>\n",
       "      <th>count</th>\n",
       "      <th>mean</th>\n",
       "      <th>std</th>\n",
       "      <th>min</th>\n",
       "      <th>25%</th>\n",
       "      <th>50%</th>\n",
       "      <th>75%</th>\n",
       "      <th>max</th>\n",
       "    </tr>\n",
       "    <tr>\n",
       "      <th>Class</th>\n",
       "      <th></th>\n",
       "      <th></th>\n",
       "      <th></th>\n",
       "      <th></th>\n",
       "      <th></th>\n",
       "      <th></th>\n",
       "      <th></th>\n",
       "      <th></th>\n",
       "      <th></th>\n",
       "      <th></th>\n",
       "      <th></th>\n",
       "      <th></th>\n",
       "      <th></th>\n",
       "      <th></th>\n",
       "      <th></th>\n",
       "      <th></th>\n",
       "      <th></th>\n",
       "      <th></th>\n",
       "      <th></th>\n",
       "      <th></th>\n",
       "      <th></th>\n",
       "    </tr>\n",
       "  </thead>\n",
       "  <tbody>\n",
       "    <tr>\n",
       "      <th>0</th>\n",
       "      <td>738.0</td>\n",
       "      <td>2.358629</td>\n",
       "      <td>1.989764</td>\n",
       "      <td>-4.2859</td>\n",
       "      <td>1.00405</td>\n",
       "      <td>2.6314</td>\n",
       "      <td>3.911625</td>\n",
       "      <td>6.8248</td>\n",
       "      <td>738.0</td>\n",
       "      <td>4.308220</td>\n",
       "      <td>...</td>\n",
       "      <td>2.64780</td>\n",
       "      <td>8.8294</td>\n",
       "      <td>738.0</td>\n",
       "      <td>-1.104299</td>\n",
       "      <td>2.097322</td>\n",
       "      <td>-8.5482</td>\n",
       "      <td>-2.209500</td>\n",
       "      <td>-0.51682</td>\n",
       "      <td>0.45203</td>\n",
       "      <td>2.4495</td>\n",
       "    </tr>\n",
       "    <tr>\n",
       "      <th>1</th>\n",
       "      <td>610.0</td>\n",
       "      <td>-1.868443</td>\n",
       "      <td>1.881183</td>\n",
       "      <td>-7.0421</td>\n",
       "      <td>-3.06145</td>\n",
       "      <td>-1.8061</td>\n",
       "      <td>-0.541770</td>\n",
       "      <td>2.3917</td>\n",
       "      <td>610.0</td>\n",
       "      <td>-0.993576</td>\n",
       "      <td>...</td>\n",
       "      <td>5.62635</td>\n",
       "      <td>17.9274</td>\n",
       "      <td>610.0</td>\n",
       "      <td>-1.246641</td>\n",
       "      <td>2.070984</td>\n",
       "      <td>-7.5887</td>\n",
       "      <td>-2.458375</td>\n",
       "      <td>-0.66165</td>\n",
       "      <td>0.34179</td>\n",
       "      <td>2.1353</td>\n",
       "    </tr>\n",
       "  </tbody>\n",
       "</table>\n",
       "<p>2 rows × 32 columns</p>\n",
       "</div>"
      ],
      "text/plain": [
       "      variance                                                                 \\\n",
       "         count      mean       std     min      25%     50%       75%     max   \n",
       "Class                                                                           \n",
       "0        738.0  2.358629  1.989764 -4.2859  1.00405  2.6314  3.911625  6.8248   \n",
       "1        610.0 -1.868443  1.881183 -7.0421 -3.06145 -1.8061 -0.541770  2.3917   \n",
       "\n",
       "      skewness            ... curtosis          entropy                      \\\n",
       "         count      mean  ...      75%      max   count      mean       std   \n",
       "Class                     ...                                                 \n",
       "0        738.0  4.308220  ...  2.64780   8.8294   738.0 -1.104299  2.097322   \n",
       "1        610.0 -0.993576  ...  5.62635  17.9274   610.0 -1.246641  2.070984   \n",
       "\n",
       "                                                   \n",
       "          min       25%      50%      75%     max  \n",
       "Class                                              \n",
       "0     -8.5482 -2.209500 -0.51682  0.45203  2.4495  \n",
       "1     -7.5887 -2.458375 -0.66165  0.34179  2.1353  \n",
       "\n",
       "[2 rows x 32 columns]"
      ]
     },
     "execution_count": 9,
     "metadata": {},
     "output_type": "execute_result"
    }
   ],
   "source": [
    "df.groupby('Class').describe()"
   ]
  },
  {
   "cell_type": "code",
   "execution_count": null,
   "metadata": {},
   "outputs": [],
   "source": []
  },
  {
   "cell_type": "code",
   "execution_count": 10,
   "metadata": {},
   "outputs": [],
   "source": [
    "target=df.Class\n",
    "inputs=df.drop('Class',axis='columns')"
   ]
  },
  {
   "cell_type": "code",
   "execution_count": 11,
   "metadata": {},
   "outputs": [],
   "source": [
    "from sklearn.model_selection import train_test_split\n",
    "X_train, X_test, y_train, y_test = train_test_split(inputs,target,test_size=0.5)"
   ]
  },
  {
   "cell_type": "code",
   "execution_count": 12,
   "metadata": {},
   "outputs": [],
   "source": [
    "from sklearn.naive_bayes import GaussianNB\n",
    "model = GaussianNB(priors=[0.5, 0.5])"
   ]
  },
  {
   "cell_type": "code",
   "execution_count": 13,
   "metadata": {},
   "outputs": [
    {
     "data": {
      "text/plain": [
       "GaussianNB(priors=[0.5, 0.5])"
      ]
     },
     "execution_count": 13,
     "metadata": {},
     "output_type": "execute_result"
    }
   ],
   "source": [
    "model.fit(X_train,y_train)"
   ]
  },
  {
   "cell_type": "code",
   "execution_count": 14,
   "metadata": {},
   "outputs": [
    {
     "data": {
      "text/plain": [
       "0.8635014836795252"
      ]
     },
     "execution_count": 14,
     "metadata": {},
     "output_type": "execute_result"
    }
   ],
   "source": [
    "model.score(X_test,y_test)"
   ]
  },
  {
   "cell_type": "code",
   "execution_count": 15,
   "metadata": {},
   "outputs": [
    {
     "data": {
      "text/html": [
       "<div>\n",
       "<style scoped>\n",
       "    .dataframe tbody tr th:only-of-type {\n",
       "        vertical-align: middle;\n",
       "    }\n",
       "\n",
       "    .dataframe tbody tr th {\n",
       "        vertical-align: top;\n",
       "    }\n",
       "\n",
       "    .dataframe thead th {\n",
       "        text-align: right;\n",
       "    }\n",
       "</style>\n",
       "<table border=\"1\" class=\"dataframe\">\n",
       "  <thead>\n",
       "    <tr style=\"text-align: right;\">\n",
       "      <th></th>\n",
       "      <th>variance</th>\n",
       "      <th>skewness</th>\n",
       "      <th>curtosis</th>\n",
       "      <th>entropy</th>\n",
       "    </tr>\n",
       "  </thead>\n",
       "  <tbody>\n",
       "    <tr>\n",
       "      <th>1221</th>\n",
       "      <td>-1.8356</td>\n",
       "      <td>-6.75620</td>\n",
       "      <td>5.058500</td>\n",
       "      <td>-0.550440</td>\n",
       "    </tr>\n",
       "    <tr>\n",
       "      <th>645</th>\n",
       "      <td>2.9233</td>\n",
       "      <td>6.04640</td>\n",
       "      <td>-0.111680</td>\n",
       "      <td>-0.586650</td>\n",
       "    </tr>\n",
       "    <tr>\n",
       "      <th>1106</th>\n",
       "      <td>-0.1269</td>\n",
       "      <td>-1.15050</td>\n",
       "      <td>-0.951380</td>\n",
       "      <td>0.578430</td>\n",
       "    </tr>\n",
       "    <tr>\n",
       "      <th>283</th>\n",
       "      <td>0.3223</td>\n",
       "      <td>-0.89808</td>\n",
       "      <td>8.088300</td>\n",
       "      <td>0.692220</td>\n",
       "    </tr>\n",
       "    <tr>\n",
       "      <th>48</th>\n",
       "      <td>3.9102</td>\n",
       "      <td>6.06500</td>\n",
       "      <td>-2.453400</td>\n",
       "      <td>-0.682340</td>\n",
       "    </tr>\n",
       "    <tr>\n",
       "      <th>1119</th>\n",
       "      <td>-1.4375</td>\n",
       "      <td>-1.86240</td>\n",
       "      <td>4.026000</td>\n",
       "      <td>0.551270</td>\n",
       "    </tr>\n",
       "    <tr>\n",
       "      <th>793</th>\n",
       "      <td>-2.2860</td>\n",
       "      <td>-5.44840</td>\n",
       "      <td>5.803900</td>\n",
       "      <td>0.882310</td>\n",
       "    </tr>\n",
       "    <tr>\n",
       "      <th>1097</th>\n",
       "      <td>-2.5919</td>\n",
       "      <td>-1.05530</td>\n",
       "      <td>3.894900</td>\n",
       "      <td>0.777570</td>\n",
       "    </tr>\n",
       "    <tr>\n",
       "      <th>569</th>\n",
       "      <td>1.8238</td>\n",
       "      <td>-6.77480</td>\n",
       "      <td>8.387300</td>\n",
       "      <td>-0.541390</td>\n",
       "    </tr>\n",
       "    <tr>\n",
       "      <th>187</th>\n",
       "      <td>1.8314</td>\n",
       "      <td>6.36720</td>\n",
       "      <td>-0.036278</td>\n",
       "      <td>0.049554</td>\n",
       "    </tr>\n",
       "  </tbody>\n",
       "</table>\n",
       "</div>"
      ],
      "text/plain": [
       "      variance  skewness  curtosis   entropy\n",
       "1221   -1.8356  -6.75620  5.058500 -0.550440\n",
       "645     2.9233   6.04640 -0.111680 -0.586650\n",
       "1106   -0.1269  -1.15050 -0.951380  0.578430\n",
       "283     0.3223  -0.89808  8.088300  0.692220\n",
       "48      3.9102   6.06500 -2.453400 -0.682340\n",
       "1119   -1.4375  -1.86240  4.026000  0.551270\n",
       "793    -2.2860  -5.44840  5.803900  0.882310\n",
       "1097   -2.5919  -1.05530  3.894900  0.777570\n",
       "569     1.8238  -6.77480  8.387300 -0.541390\n",
       "187     1.8314   6.36720 -0.036278  0.049554"
      ]
     },
     "execution_count": 15,
     "metadata": {},
     "output_type": "execute_result"
    }
   ],
   "source": [
    "X_test[:10]"
   ]
  },
  {
   "cell_type": "code",
   "execution_count": 16,
   "metadata": {},
   "outputs": [
    {
     "data": {
      "text/plain": [
       "1221    1\n",
       "645     0\n",
       "1106    1\n",
       "283     0\n",
       "48      0\n",
       "1119    1\n",
       "793     1\n",
       "1097    1\n",
       "569     0\n",
       "187     0\n",
       "Name: Class, dtype: int64"
      ]
     },
     "execution_count": 16,
     "metadata": {},
     "output_type": "execute_result"
    }
   ],
   "source": [
    "y_test[:10]"
   ]
  },
  {
   "cell_type": "code",
   "execution_count": 17,
   "metadata": {},
   "outputs": [
    {
     "data": {
      "text/plain": [
       "array([1, 0, 1, 1, 0, 1, 1, 1, 1, 0], dtype=int64)"
      ]
     },
     "execution_count": 17,
     "metadata": {},
     "output_type": "execute_result"
    }
   ],
   "source": [
    "model.predict(X_test[:10])"
   ]
  },
  {
   "cell_type": "code",
   "execution_count": 18,
   "metadata": {},
   "outputs": [
    {
     "data": {
      "text/plain": [
       "array([[0.01523269, 0.98476731],\n",
       "       [0.98785687, 0.01214313],\n",
       "       [0.396164  , 0.603836  ],\n",
       "       [0.16638608, 0.83361392],\n",
       "       [0.99559189, 0.00440811],\n",
       "       [0.08492834, 0.91507166],\n",
       "       [0.01136561, 0.98863439],\n",
       "       [0.0336304 , 0.9663696 ],\n",
       "       [0.20243148, 0.79756852],\n",
       "       [0.96107768, 0.03892232]])"
      ]
     },
     "execution_count": 18,
     "metadata": {},
     "output_type": "execute_result"
    }
   ],
   "source": [
    "model.predict_proba(X_test[:10])"
   ]
  },
  {
   "cell_type": "code",
   "execution_count": 19,
   "metadata": {},
   "outputs": [
    {
     "data": {
      "text/plain": [
       "array([0.80740741, 0.85925926, 0.84444444, 0.84444444, 0.85820896])"
      ]
     },
     "execution_count": 19,
     "metadata": {},
     "output_type": "execute_result"
    }
   ],
   "source": [
    "from sklearn.model_selection import cross_val_score\n",
    "cross_val_score(GaussianNB(),X_train, y_train, cv=5)"
   ]
  },
  {
   "cell_type": "code",
   "execution_count": 20,
   "metadata": {},
   "outputs": [
    {
     "name": "stdout",
     "output_type": "stream",
     "text": [
      "0.8635014836795252\n"
     ]
    }
   ],
   "source": [
    "import numpy as np\n",
    "predicted= model.predict(X_test)\n",
    "print(np.mean(predicted==y_test))"
   ]
  },
  {
   "cell_type": "code",
   "execution_count": 21,
   "metadata": {},
   "outputs": [
    {
     "name": "stdout",
     "output_type": "stream",
     "text": [
      "[[335  46]\n",
      " [ 46 247]]\n"
     ]
    }
   ],
   "source": [
    "from sklearn.metrics import confusion_matrix\n",
    "print(confusion_matrix(y_test,predicted))"
   ]
  },
  {
   "cell_type": "code",
   "execution_count": 22,
   "metadata": {},
   "outputs": [
    {
     "data": {
      "image/png": "[encoded data removed]",
      "text/plain": [
       "<Figure size 432x288 with 1 Axes>"
      ]
     },
     "metadata": {
      "needs_background": "light"
     },
     "output_type": "display_data"
    }
   ],
   "source": [
    "import sklearn.metrics as metrics\n",
    "probs = model.predict_proba(X_test)\n",
    "preds = probs[:,1]\n",
    "fpr, tpr, threshold = metrics.roc_curve(y_test, preds)\n",
    "roc_auc = metrics.auc(fpr, tpr)\n",
    " \n",
    "import matplotlib.pyplot as plt\n",
    "plt.title('Receiver Operating Characteristic')\n",
    "plt.plot(fpr, tpr, 'b', label = 'AUC = %0.2f' % roc_auc)\n",
    "plt.legend(loc = 'lower right')\n",
    "plt.plot([0, 1], [0, 1],'r--')\n",
    "plt.xlim([0, 1])\n",
    "plt.ylim([0, 1])\n",
    "plt.ylabel('True Positive Rate')\n",
    "plt.xlabel('False Positive Rate')\n",
    "plt.show()\n"
   ]
  },
  {
   "cell_type": "code",
   "execution_count": 23,
   "metadata": {},
   "outputs": [],
   "source": [
    "model1 = GaussianNB(priors=[0.1, 0.9])"
   ]
  },
  {
   "cell_type": "code",
   "execution_count": 24,
   "metadata": {},
   "outputs": [
    {
     "data": {
      "text/plain": [
       "GaussianNB(priors=[0.1, 0.9])"
      ]
     },
     "execution_count": 24,
     "metadata": {},
     "output_type": "execute_result"
    }
   ],
   "source": [
    "model1.fit(X_train,y_train)"
   ]
  },
  {
   "cell_type": "code",
   "execution_count": 25,
   "metadata": {},
   "outputs": [
    {
     "data": {
      "text/plain": [
       "0.7997032640949555"
      ]
     },
     "execution_count": 25,
     "metadata": {},
     "output_type": "execute_result"
    }
   ],
   "source": [
    "model1.score(X_test,y_test)\n"
   ]
  },
  {
   "cell_type": "code",
   "execution_count": 26,
   "metadata": {},
   "outputs": [
    {
     "data": {
      "text/html": [
       "<div>\n",
       "<style scoped>\n",
       "    .dataframe tbody tr th:only-of-type {\n",
       "        vertical-align: middle;\n",
       "    }\n",
       "\n",
       "    .dataframe tbody tr th {\n",
       "        vertical-align: top;\n",
       "    }\n",
       "\n",
       "    .dataframe thead th {\n",
       "        text-align: right;\n",
       "    }\n",
       "</style>\n",
       "<table border=\"1\" class=\"dataframe\">\n",
       "  <thead>\n",
       "    <tr style=\"text-align: right;\">\n",
       "      <th></th>\n",
       "      <th>variance</th>\n",
       "      <th>skewness</th>\n",
       "      <th>curtosis</th>\n",
       "      <th>entropy</th>\n",
       "    </tr>\n",
       "  </thead>\n",
       "  <tbody>\n",
       "    <tr>\n",
       "      <th>1221</th>\n",
       "      <td>-1.8356</td>\n",
       "      <td>-6.75620</td>\n",
       "      <td>5.058500</td>\n",
       "      <td>-0.550440</td>\n",
       "    </tr>\n",
       "    <tr>\n",
       "      <th>645</th>\n",
       "      <td>2.9233</td>\n",
       "      <td>6.04640</td>\n",
       "      <td>-0.111680</td>\n",
       "      <td>-0.586650</td>\n",
       "    </tr>\n",
       "    <tr>\n",
       "      <th>1106</th>\n",
       "      <td>-0.1269</td>\n",
       "      <td>-1.15050</td>\n",
       "      <td>-0.951380</td>\n",
       "      <td>0.578430</td>\n",
       "    </tr>\n",
       "    <tr>\n",
       "      <th>283</th>\n",
       "      <td>0.3223</td>\n",
       "      <td>-0.89808</td>\n",
       "      <td>8.088300</td>\n",
       "      <td>0.692220</td>\n",
       "    </tr>\n",
       "    <tr>\n",
       "      <th>48</th>\n",
       "      <td>3.9102</td>\n",
       "      <td>6.06500</td>\n",
       "      <td>-2.453400</td>\n",
       "      <td>-0.682340</td>\n",
       "    </tr>\n",
       "    <tr>\n",
       "      <th>1119</th>\n",
       "      <td>-1.4375</td>\n",
       "      <td>-1.86240</td>\n",
       "      <td>4.026000</td>\n",
       "      <td>0.551270</td>\n",
       "    </tr>\n",
       "    <tr>\n",
       "      <th>793</th>\n",
       "      <td>-2.2860</td>\n",
       "      <td>-5.44840</td>\n",
       "      <td>5.803900</td>\n",
       "      <td>0.882310</td>\n",
       "    </tr>\n",
       "    <tr>\n",
       "      <th>1097</th>\n",
       "      <td>-2.5919</td>\n",
       "      <td>-1.05530</td>\n",
       "      <td>3.894900</td>\n",
       "      <td>0.777570</td>\n",
       "    </tr>\n",
       "    <tr>\n",
       "      <th>569</th>\n",
       "      <td>1.8238</td>\n",
       "      <td>-6.77480</td>\n",
       "      <td>8.387300</td>\n",
       "      <td>-0.541390</td>\n",
       "    </tr>\n",
       "    <tr>\n",
       "      <th>187</th>\n",
       "      <td>1.8314</td>\n",
       "      <td>6.36720</td>\n",
       "      <td>-0.036278</td>\n",
       "      <td>0.049554</td>\n",
       "    </tr>\n",
       "  </tbody>\n",
       "</table>\n",
       "</div>"
      ],
      "text/plain": [
       "      variance  skewness  curtosis   entropy\n",
       "1221   -1.8356  -6.75620  5.058500 -0.550440\n",
       "645     2.9233   6.04640 -0.111680 -0.586650\n",
       "1106   -0.1269  -1.15050 -0.951380  0.578430\n",
       "283     0.3223  -0.89808  8.088300  0.692220\n",
       "48      3.9102   6.06500 -2.453400 -0.682340\n",
       "1119   -1.4375  -1.86240  4.026000  0.551270\n",
       "793    -2.2860  -5.44840  5.803900  0.882310\n",
       "1097   -2.5919  -1.05530  3.894900  0.777570\n",
       "569     1.8238  -6.77480  8.387300 -0.541390\n",
       "187     1.8314   6.36720 -0.036278  0.049554"
      ]
     },
     "execution_count": 26,
     "metadata": {},
     "output_type": "execute_result"
    }
   ],
   "source": [
    "X_test[:10]"
   ]
  },
  {
   "cell_type": "code",
   "execution_count": 27,
   "metadata": {},
   "outputs": [
    {
     "data": {
      "text/plain": [
       "1221    1\n",
       "645     0\n",
       "1106    1\n",
       "283     0\n",
       "48      0\n",
       "1119    1\n",
       "793     1\n",
       "1097    1\n",
       "569     0\n",
       "187     0\n",
       "Name: Class, dtype: int64"
      ]
     },
     "execution_count": 27,
     "metadata": {},
     "output_type": "execute_result"
    }
   ],
   "source": [
    "y_test[:10]"
   ]
  },
  {
   "cell_type": "code",
   "execution_count": 28,
   "metadata": {},
   "outputs": [
    {
     "data": {
      "text/plain": [
       "array([1, 0, 1, 1, 0, 1, 1, 1, 1, 0], dtype=int64)"
      ]
     },
     "execution_count": 28,
     "metadata": {},
     "output_type": "execute_result"
    }
   ],
   "source": [
    "model1.predict(X_test[:10])"
   ]
  },
  {
   "cell_type": "code",
   "execution_count": 29,
   "metadata": {},
   "outputs": [
    {
     "data": {
      "text/plain": [
       "array([[0.00171575, 0.99828425],\n",
       "       [0.90038857, 0.09961143],\n",
       "       [0.06794464, 0.93205536],\n",
       "       [0.02169618, 0.97830382],\n",
       "       [0.96167838, 0.03832162],\n",
       "       [0.01020703, 0.98979297],\n",
       "       [0.00127573, 0.99872427],\n",
       "       [0.00385186, 0.99614814],\n",
       "       [0.0274277 , 0.9725723 ],\n",
       "       [0.73287584, 0.26712416]])"
      ]
     },
     "execution_count": 29,
     "metadata": {},
     "output_type": "execute_result"
    }
   ],
   "source": [
    "model1.predict_proba(X_test[:10])"
   ]
  },
  {
   "cell_type": "code",
   "execution_count": 30,
   "metadata": {},
   "outputs": [
    {
     "name": "stdout",
     "output_type": "stream",
     "text": [
      "[[250 131]\n",
      " [  4 289]]\n"
     ]
    }
   ],
   "source": [
    "predicted1= model1.predict(X_test)\n",
    "print(confusion_matrix(y_test,predicted1))"
   ]
  },
  {
   "cell_type": "code",
   "execution_count": 31,
   "metadata": {},
   "outputs": [
    {
     "data": {
      "image/png": "[encoded data removed]",
      "text/plain": [
       "<Figure size 432x288 with 1 Axes>"
      ]
     },
     "metadata": {
      "needs_background": "light"
     },
     "output_type": "display_data"
    }
   ],
   "source": [
    "probs1 = model1.predict_proba(X_test)\n",
    "preds1 = probs1[:,1]\n",
    "fpr, tpr, threshold = metrics.roc_curve(y_test, preds1)\n",
    "roc_auc = metrics.auc(fpr, tpr)\n",
    " \n",
    "plt.title('Receiver Operating Characteristic')\n",
    "plt.plot(fpr, tpr, 'b', label = 'AUC = %0.2f' % roc_auc)\n",
    "plt.legend(loc = 'lower right')\n",
    "plt.plot([0, 1], [0, 1],'r--')\n",
    "plt.xlim([0, 1])\n",
    "plt.ylim([0, 1])\n",
    "plt.ylabel('True Positive Rate')\n",
    "plt.xlabel('False Positive Rate')\n",
    "plt.show()"
   ]
  },
  {
   "cell_type": "code",
   "execution_count": 32,
   "metadata": {},
   "outputs": [
    {
     "name": "stdout",
     "output_type": "stream",
     "text": [
      "[[0.00171575 0.99828425]\n",
      " [0.90038857 0.09961143]\n",
      " [0.06794464 0.93205536]\n",
      " ...\n",
      " [0.2369604  0.7630396 ]\n",
      " [0.952811   0.047189  ]\n",
      " [0.06522485 0.93477515]]\n"
     ]
    }
   ],
   "source": [
    "print (probs1)"
   ]
  },
  {
   "cell_type": "code",
   "execution_count": null,
   "metadata": {},
   "outputs": [],
   "source": []
  },
  {
   "cell_type": "code",
   "execution_count": null,
   "metadata": {},
   "outputs": [],
   "source": []
  }
 ],
 "metadata": {
  "kernelspec": {
   "display_name": "Python 3",
   "language": "python",
   "name": "python3"
  },
  "language_info": {
   "codemirror_mode": {
    "name": "ipython",
    "version": 3
   },
   "file_extension": ".py",
   "mimetype": "text/x-python",
   "name": "python",
   "nbconvert_exporter": "python",
   "pygments_lexer": "ipython3",
   "version": "3.8.3"
  }
 },
 "nbformat": 4,
 "nbformat_minor": 4
}
